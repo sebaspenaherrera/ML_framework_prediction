{
 "cells": [
  {
   "cell_type": "code",
   "execution_count": 2,
   "metadata": {},
   "outputs": [],
   "source": [
    "%load_ext autoreload\n",
    "%autoreload 2"
   ]
  },
  {
   "cell_type": "code",
   "execution_count": 3,
   "metadata": {},
   "outputs": [],
   "source": [
    "# Import the libraries to supress warnings\n",
    "import warnings\n",
    "warnings.simplefilter(\"ignore\")\n",
    "\n",
    "# Importing the libraries\n",
    "from FunctionsRevision import Functions as fun"
   ]
  },
  {
   "cell_type": "code",
   "execution_count": 5,
   "metadata": {},
   "outputs": [
    {
     "name": "stdout",
     "output_type": "stream",
     "text": [
      "KQI list: \n",
      "['initPlayingTime', 'videoWidth', 'resolutionSwitches', 'res5', 'res4', 'res3', 'res0', 'res1', 'res2', 'resolution', 'resProfile', 'videoDisplayRate', 'estimatedTotalBandwidthUsed', 'stallCount', 'stallEvents', 'stallTime', 'throughput', 'bufferDuration', 'rtt', 'avgStallTimeFixed']\n",
      "\n",
      "Features to drop: \n",
      "['time', 'xGlobal', 'time', 'UE_UE_ul_retx', 'UE_UE_dl_retx', 'ue_count_max', 'ue_count_min', 'freqs', 'total']\n",
      "\n",
      "To train:\n",
      "\tFeature engineering modes: ['Feature_selection', 'Feature_extraction']\n",
      "\tAlgorithms: ['SVR'] \n",
      "\tTargets: ['initPlayingTime']\n",
      "\n",
      "Calculating MI matrix between the inputs\n",
      "Checking multicollinearity through VIF values\n",
      "Deleting deatures with VIF values equal to infinity\n",
      "\t['dl_limit', 'CPE_dlbandwidth_MHz', 'n_rb_ul', 'n_rb_dl', 'CPE_ulbandwidth_MHz']\n",
      "\t['CPE_dlbandwidth_MHz', 'CPE_ulbandwidth_MHz', 'n_rb_dl', 'dl_limit']\n",
      "\t['CPE_ulbandwidth_MHz', 'CPE_dlbandwidth_MHz', 'dl_limit']\n",
      "\t['CPE_dlbandwidth_MHz', 'CPE_ulbandwidth_MHz']\n",
      "\n",
      "Deleting features with VIF values higher than the threshold = 5\n",
      "\u001b[31m\tVIF ['CPE_ulbandwidth_MHz'] = 7595322.95295798\u001b[0m\n",
      "\u001b[31m\tVIF ['cqi_resource_count'] = 2724570.7733698417\u001b[0m\n",
      "\u001b[31m\tVIF ['CPE_rsrp_dBm'] = 22913.69730459022\u001b[0m\n",
      "\u001b[31m\tVIF ['dl_sched_users_avg'] = 12672.188738373095\u001b[0m\n",
      "\u001b[31m\tVIF ['sr_resource_count'] = 11084.632791770517\u001b[0m\n",
      "\u001b[31m\tVIF ['noise_level'] = 5515.316977867394\u001b[0m\n",
      "\u001b[31m\tVIF ['ul_use_max'] = 1832.8353910717867\u001b[0m\n",
      "\u001b[31m\tVIF ['ul_use_min'] = 1605.1719202055504\u001b[0m\n",
      "\u001b[31m\tVIF ['ue_count_avg'] = 1333.1223901751337\u001b[0m\n",
      "\u001b[31m\tVIF ['CPE_cqi0'] = 750.0590489823071\u001b[0m\n",
      "\u001b[31m\tVIF ['UE_ul_path_loss'] = 566.7617521910668\u001b[0m\n",
      "\u001b[31m\tVIF ['ul_use_avg'] = 334.59005834146177\u001b[0m\n",
      "\u001b[31m\tVIF ['dl_tx'] = 279.36551852006426\u001b[0m\n",
      "\u001b[31m\tVIF ['CPE_sinr_dB'] = 231.70013497647818\u001b[0m\n",
      "\u001b[31m\tVIF ['dl_use_avg'] = 203.2563449803585\u001b[0m\n",
      "\u001b[31m\tVIF ['CPE_rsrq_dB'] = 183.35528454817162\u001b[0m\n",
      "\u001b[31m\tVIF ['dl_bitrate'] = 164.26766554653508\u001b[0m\n",
      "\u001b[31m\tVIF ['UE_turbo_decoder_max'] = 161.97065533232998\u001b[0m\n",
      "\u001b[31m\tVIF ['erab_count_avg'] = 140.59600886516307\u001b[0m\n",
      "\u001b[31m\tVIF ['UE_UE_ul_bitrate'] = 124.18340682630978\u001b[0m\n",
      "\u001b[31m\tVIF ['UE_ri'] = 94.78251178859146\u001b[0m\n",
      "\u001b[31m\tVIF ['erab_count_min'] = 90.68531967294578\u001b[0m\n",
      "\u001b[31m\tVIF ['erab_count_max'] = 76.97501015281222\u001b[0m\n",
      "\u001b[31m\tVIF ['UE_epre'] = 76.47514480565937\u001b[0m\n",
      "\u001b[31m\tVIF ['gain'] = 74.67338653003286\u001b[0m\n",
      "\u001b[31m\tVIF ['ul_bitrate'] = 66.74673012747719\u001b[0m\n",
      "\u001b[31m\tVIF ['UE_ul_tx'] = 52.584487618338244\u001b[0m\n",
      "\u001b[31m\tVIF ['ul_sched_users_max'] = 47.125572748448064\u001b[0m\n",
      "\u001b[31m\tVIF ['UE_cqi'] = 45.24932217718675\u001b[0m\n",
      "\u001b[31m\tVIF ['dl_retx'] = 41.412769573436364\u001b[0m\n",
      "\u001b[31m\tVIF ['CPE_PSrs_dBm'] = 35.09677829422267\u001b[0m\n",
      "\u001b[31m\tVIF ['UE_ul_phr'] = 25.61781521026741\u001b[0m\n",
      "\u001b[31m\tVIF ['UE_dl_mcs'] = 20.133179511977726\u001b[0m\n",
      "\u001b[31m\tVIF ['UE_dl_tx'] = 18.44586486735233\u001b[0m\n",
      "\u001b[31m\tVIF ['UE_ul_mcs'] = 16.739158076981564\u001b[0m\n",
      "\u001b[31m\tVIF ['CPE_cqi1'] = 14.03553368996311\u001b[0m\n",
      "\u001b[31m\tVIF ['UE_turbo_decoder_avg'] = 12.555880416435805\u001b[0m\n",
      "\u001b[31m\tVIF ['dl_sched_users_max'] = 8.476104534508899\u001b[0m\n",
      "\u001b[31m\tVIF ['UE_pucch1_snr'] = 8.28832308749588\u001b[0m\n",
      "\u001b[31m\tVIF ['ul_sched_users_avg'] = 7.7263661796180285\u001b[0m\n",
      "\u001b[31m\tVIF ['ul_limit'] = 5.930129930803033\u001b[0m\n",
      "\u001b[32m\n",
      "Selected features: ['UE_pusch_snr', 'UE_UE_dl_bitrate', 'ul_tx', 'ul_retx', 'CPE_PPusch_dBm', 'CPE_PPucch_dBm', 'CPE_PPrach_dBm']\u001b[0m\n"
     ]
    },
    {
     "name": "stderr",
     "output_type": "stream",
     "text": [
      "Targets:   0%|          | 0/1 [00:00<?, ?it/s]"
     ]
    },
    {
     "name": "stdout",
     "output_type": "stream",
     "text": [
      "\u001b[1m\u001b[43m\u001b[30mTarget: initPlayingTime\u001b[0m\n"
     ]
    },
    {
     "name": "stderr",
     "output_type": "stream",
     "text": []
    },
    {
     "name": "stdout",
     "output_type": "stream",
     "text": [
      "\u001b[1m\u001b[44m\u001b[30mFeature mode: Feature_selection\u001b[0m\n"
     ]
    },
    {
     "name": "stderr",
     "output_type": "stream",
     "text": [
      "\n",
      "\u001b[A"
     ]
    },
    {
     "name": "stdout",
     "output_type": "stream",
     "text": [
      "\u001b[1m\u001b[42m\u001b[30mAlgorithm: SVR\u001b[0m\n",
      "Training the model for initPlayingTime...\n"
     ]
    },
    {
     "name": "stderr",
     "output_type": "stream",
     "text": [
      "\n",
      "\u001b[A\n",
      "\u001b[A"
     ]
    },
    {
     "name": "stdout",
     "output_type": "stream",
     "text": [
      "Best model: \n",
      "\t{'feature_selection__k': 5, 'model__C': 10.0, 'model__degree': 6, 'model__epsilon': 0.01, 'model__kernel': 'rbf'}\n",
      "Training time: 28.36207340308465\n",
      "Calculating the feature importance for this model...\n",
      "Model assessment: \n",
      "\t{'R2': 0.05398421190010849, 'MAE': 0.13041531233587453, 'MSE': 0.6448031634955105, 'MAPE': 0.10782966310346044, 'MedAE': 0.025979747120265906, 'EVS': 0.06611387043362216, 'MAEP': 0.21687945453066876, 'RMSE': 0.8029963658046719, 'RMSEP': 1.335375506806348, 'pTime': 0.0009316304849926382}\n",
      "\u001b[1m\u001b[44m\u001b[30mFeature mode: Feature_extraction\u001b[0m\n"
     ]
    },
    {
     "name": "stderr",
     "output_type": "stream",
     "text": [
      "\n",
      "\u001b[A"
     ]
    },
    {
     "name": "stdout",
     "output_type": "stream",
     "text": [
      "\u001b[1m\u001b[42m\u001b[30mAlgorithm: SVR\u001b[0m\n",
      "Training the model for initPlayingTime...\n",
      "Best model: \n",
      "\t{'model__C': 10.0, 'model__degree': 1, 'model__epsilon': 0.01, 'model__kernel': 'rbf', 'reduce__n_components': 51}\n",
      "Training time: 12.40566904109437\n"
     ]
    },
    {
     "name": "stderr",
     "output_type": "stream",
     "text": [
      "\n",
      "\u001b[A\n",
      "Feature engineering mode: 100%|██████████| 2/2 [00:41<00:00, 20.60s/it]"
     ]
    },
    {
     "name": "stdout",
     "output_type": "stream",
     "text": [
      "Model assessment: \n",
      "\t{'R2': 0.09734229165979957, 'MAE': 0.12349859127445105, 'MSE': 0.6152503512234309, 'MAPE': 0.12133770081888855, 'MedAE': 0.03244954815269224, 'EVS': 0.10330421537740708, 'MAEP': 0.20537701157305857, 'RMSE': 0.7843789589372161, 'RMSEP': 1.3044149319024556, 'pTime': 0.001255353791639209}\n"
     ]
    },
    {
     "name": "stderr",
     "output_type": "stream",
     "text": [
      "\n",
      "Targets: 100%|██████████| 1/1 [00:41<00:00, 41.74s/it]"
     ]
    },
    {
     "name": "stdout",
     "output_type": "stream",
     "text": [
      "\u001b[1m\u001b[32mJSON file have been saved in: ./stats_models/2024-03-21/stats_initPlayingTime.json\u001b[0m\n"
     ]
    },
    {
     "name": "stderr",
     "output_type": "stream",
     "text": [
      "\n"
     ]
    },
    {
     "name": "stdout",
     "output_type": "stream",
     "text": [
      "\u001b[1m\u001b[32mJSON file have been saved in: ./stats_models/2024-03-21/stats_overall.json\u001b[0m\n"
     ]
    }
   ],
   "source": [
    "# INPUT PARAMETERS\n",
    "feature_modes = ['Feature_selection', 'Feature_extraction']\n",
    "algorithms = ['SVR']\n",
    "targets = ['initPlayingTime']\n",
    "save_model = False\n",
    "use_kqi = False\n",
    "scale = True\n",
    "save_dataset = False\n",
    "\n",
    "# Read the configuration file\n",
    "configuration = fun.load_configuration()\n",
    "\n",
    "# Configure the experiment\n",
    "KQIs, drop_features, feature_modes, algorithms, targets, KQI_type = fun.configure_ml_experiment(configuration_dict=configuration, feature_modes=feature_modes, algorithms=algorithms, targets=targets)\n",
    "\n",
    "# Load the dataset\n",
    "dataset, Y = fun.load_dataset(r'./data/datasetProm.json', targets=KQIs, drop_features=drop_features)\n",
    "\n",
    "# Create FS/FE datasets\n",
    "X_train_FE, X_test_FE, X_train_FS, X_test_FS, y_train, y_test = fun.create_FE_FS_dataset(X=dataset, Y=Y, feature_modes=feature_modes, scale=scale, save_dataset=save_dataset)\n",
    "\n",
    "# Train the models\n",
    "_, _ = fun.train_models(X_train_FE=X_train_FE, X_train_FS=X_train_FS, X_test_FE=X_test_FE, X_test_FS=X_test_FS, y_train=y_train, y_test=y_test,\n",
    "                 algorithms=algorithms, feature_modes=feature_modes, KQI_type=KQI_type, targets=targets, save_model=save_model, use_kqi=use_kqi)\n"
   ]
  },
  {
   "cell_type": "code",
   "execution_count": null,
   "metadata": {},
   "outputs": [],
   "source": []
  }
 ],
 "metadata": {
  "kernelspec": {
   "display_name": "Python 3",
   "language": "python",
   "name": "python3"
  },
  "language_info": {
   "codemirror_mode": {
    "name": "ipython",
    "version": 3
   },
   "file_extension": ".py",
   "mimetype": "text/x-python",
   "name": "python",
   "nbconvert_exporter": "python",
   "pygments_lexer": "ipython3",
   "version": "3.12.2"
  }
 },
 "nbformat": 4,
 "nbformat_minor": 2
}
